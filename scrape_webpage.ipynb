{
 "cells": [
  {
   "cell_type": "code",
   "execution_count": null,
   "metadata": {},
   "outputs": [],
   "source": [
    "from selenium import webdriver\n",
    "from selenium.webdriver.chrome.service import Service\n",
    "from selenium.webdriver.common.keys import Keys\n",
    "#for wait times:\n",
    "from selenium.webdriver.common.by import By\n",
    "from selenium.webdriver.support.ui import WebDriverWait\n",
    "from selenium.webdriver.support import expected_conditions as EC\n",
    "from webdriver_manager.chrome import ChromeDriverManager\n",
    "import time\n",
    "from datetime import datetime\n",
    "from datetime import date\n",
    "import numpy as np\n",
    "import pandas as pd\n",
    "import re\n",
    "import os\n",
    "import project_functions as pf\n",
    "today = datetime.today().strftime('%Y-%m-%d') #string "
   ]
  },
  {
   "cell_type": "code",
   "execution_count": null,
   "metadata": {},
   "outputs": [],
   "source": [
    "\n",
    "Scanned_Excels,backup,DataBase,testpdf,CompanyName=pf.set_paths()"
   ]
  },
  {
   "cell_type": "code",
   "execution_count": null,
   "metadata": {},
   "outputs": [],
   "source": [
    "df=pf.scrape_webpage()"
   ]
  },
  {
   "cell_type": "code",
   "execution_count": null,
   "metadata": {},
   "outputs": [],
   "source": [
    "trnslt_df=pf.companyname_from_ch_to_Eng(firstpage=39,xlsx_to_read=CompanyName+\"eng_company_name_2023-03-11.xlsx\"\n",
    "                                        ,xlsx_to_write=CompanyName+\"eng_company_name_\"+today+\"_1.xlsx\")"
   ]
  },
  {
   "cell_type": "code",
   "execution_count": null,
   "metadata": {},
   "outputs": [],
   "source": [
    "# df=pd.read_excel(r\"C:\\Users\\AmirBreda\\OneDrive\\Desktop\\Boldor\\DataBase\\final_2023-03-12.xlsx\")"
   ]
  },
  {
   "cell_type": "code",
   "execution_count": null,
   "metadata": {},
   "outputs": [],
   "source": [
    "status,por,ind,se=pf.get_categorical_col()"
   ]
  },
  {
   "cell_type": "code",
   "execution_count": null,
   "metadata": {},
   "outputs": [],
   "source": [
    "df1=pd.merge(left=df,right=trnslt_df,how='left',on='企业名称')\n",
    "df2=pd.merge(left=df1,right=status,how='left',on='最新状态')\n",
    "df3=pd.merge(left=df2,right=por,how='left',on='注册地')\n",
    "df4=pd.merge(left=df3,right=ind,how='left',on='行业')\n",
    "df5=pd.merge(left=df4,right=se,how='left',on='拟上市地点')"
   ]
  },
  {
   "cell_type": "code",
   "execution_count": null,
   "metadata": {},
   "outputs": [],
   "source": [
    "df5.to_excel(DataBase+'final_'+today+'.xlsx',index=False)"
   ]
  },
  {
   "cell_type": "code",
   "execution_count": null,
   "metadata": {},
   "outputs": [],
   "source": [
    "agg1=df5.groupby(df5.Industry).agg(CountCompany=('CompanyName_y','size'))\\\n",
    ".sort_values(by='CountCompany',ascending=False)\n",
    "agg2=df5.groupby(df5.Status).agg(CountCompany=('CompanyName_y','size'))\\\n",
    ".sort_values(by='CountCompany',ascending=False)"
   ]
  },
  {
   "cell_type": "code",
   "execution_count": null,
   "metadata": {},
   "outputs": [],
   "source": [
    "with pd.ExcelWriter(DataBase+ \"agg\"+today+\".xlsx\") as writer:\n",
    "    agg1.to_excel(writer, sheet_name=\"count_companies_per_industry\")\n",
    "    agg2.to_excel(writer, sheet_name=\"count_companies_per_status\")"
   ]
  }
 ],
 "metadata": {
  "kernelspec": {
   "display_name": "venv_amir",
   "language": "python",
   "name": "python3"
  },
  "language_info": {
   "codemirror_mode": {
    "name": "ipython",
    "version": 3
   },
   "file_extension": ".py",
   "mimetype": "text/x-python",
   "name": "python",
   "nbconvert_exporter": "python",
   "pygments_lexer": "ipython3",
   "version": "3.10.7"
  },
  "orig_nbformat": 4
 },
 "nbformat": 4,
 "nbformat_minor": 2
}
