{
 "cells": [
  {
   "cell_type": "code",
   "execution_count": null,
   "metadata": {},
   "outputs": [],
   "source": [
    "from selenium import webdriver\n",
    "from selenium.webdriver.chrome.service import Service\n",
    "from selenium.webdriver.common.keys import Keys\n",
    "#for wait times:\n",
    "from selenium.webdriver.common.by import By\n",
    "from selenium.webdriver.support.ui import WebDriverWait\n",
    "from selenium.webdriver.support import expected_conditions as EC\n",
    "from webdriver_manager.chrome import ChromeDriverManager\n",
    "import time\n",
    "from datetime import datetime\n",
    "from datetime import date\n",
    "import numpy as np\n",
    "import pandas as pd\n",
    "import re\n",
    "import os\n",
    "\n",
    "today = datetime.today().strftime('%Y-%m-%d') #string "
   ]
  },
  {
   "cell_type": "code",
   "execution_count": null,
   "metadata": {},
   "outputs": [],
   "source": [
    "import project_functions_update1903 as pf"
   ]
  },
  {
   "cell_type": "code",
   "execution_count": null,
   "metadata": {},
   "outputs": [],
   "source": [
    "Scanned_Excels,backup,DataBase,testpdf,CompanyName=pf.set_paths()"
   ]
  },
  {
   "cell_type": "code",
   "execution_count": null,
   "metadata": {},
   "outputs": [],
   "source": [
    "# eng_company_name=pf.get_file_name(CompanyName,'EngCompanyName_')\n",
    "df,trnslt_df=pf.scrape_and_translate(\n",
    "                               xlsx_to_read=CompanyName+\"EngCompanyName_2023-03-15_v2.xlsx\"\n",
    "                               ,xlsx_to_write=CompanyName+pf.get_file_name(CompanyName,'EngCompanyName_'))"
   ]
  },
  {
   "cell_type": "code",
   "execution_count": null,
   "metadata": {},
   "outputs": [],
   "source": [
    "# df=pf.scrape_webpage()"
   ]
  },
  {
   "cell_type": "code",
   "execution_count": null,
   "metadata": {},
   "outputs": [],
   "source": [
    "status,por,ind,se=pf.get_categorical_col()\n",
    "df1=pd.merge(left=df,right=trnslt_df,how='left',on='企业名称')\n",
    "df2=pd.merge(left=df1,right=status,how='left',on='最新状态')\n",
    "df3=pd.merge(left=df2,right=por,how='left',on='注册地')\n",
    "df4=pd.merge(left=df3,right=ind,how='left',on='行业')\n",
    "df5=pd.merge(left=df4,right=se,how='left',on='拟上市地点')"
   ]
  },
  {
   "cell_type": "code",
   "execution_count": null,
   "metadata": {},
   "outputs": [],
   "source": [
    "agg1=df5.groupby(df5.Industry).agg(CountCompany=('CompanyName','size'))\\\n",
    ".sort_values(by='CountCompany',ascending=False)\n",
    "agg2=df5.groupby(df5.Status).agg(CountCompany=('CompanyName','size'))\\\n",
    ".sort_values(by='CountCompany',ascending=False)"
   ]
  },
  {
   "cell_type": "code",
   "execution_count": null,
   "metadata": {},
   "outputs": [],
   "source": [
    "with pd.ExcelWriter(DataBase + pf.get_file_name(DataBase,'final_')) as writer:\n",
    "    df5.to_excel(writer, sheet_name=\"east_money_translated\",index=False)\n",
    "    agg1.to_excel(writer, sheet_name=\"count_companies_per_industry\")\n",
    "    agg2.to_excel(writer, sheet_name=\"count_companies_per_status\")"
   ]
  }
 ],
 "metadata": {
  "kernelspec": {
   "display_name": "venv_amir",
   "language": "python",
   "name": "python3"
  },
  "language_info": {
   "codemirror_mode": {
    "name": "ipython",
    "version": 3
   },
   "file_extension": ".py",
   "mimetype": "text/x-python",
   "name": "python",
   "nbconvert_exporter": "python",
   "pygments_lexer": "ipython3",
   "version": "3.10.7"
  },
  "orig_nbformat": 4
 },
 "nbformat": 4,
 "nbformat_minor": 2
}
